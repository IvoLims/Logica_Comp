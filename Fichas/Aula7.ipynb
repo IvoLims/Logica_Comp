{
  "nbformat": 4,
  "nbformat_minor": 0,
  "metadata": {
    "kernelspec": {
      "display_name": "Python 3",
      "language": "python",
      "name": "python3"
    },
    "language_info": {
      "codemirror_mode": {
        "name": "ipython",
        "version": 3
      },
      "file_extension": ".py",
      "mimetype": "text/x-python",
      "name": "python",
      "nbconvert_exporter": "python",
      "pygments_lexer": "ipython3",
      "version": "3.7.3"
    },
    "colab": {
      "name": "Cópia_de_Aula7.ipynb",
      "provenance": [],
      "collapsed_sections": []
    }
  },
  "cells": [
    {
      "cell_type": "markdown",
      "metadata": {
        "id": "FNdYXkIUq2sY"
      },
      "source": [
        "# Verificação Indutiva\n",
        "\n",
        "Na aula passada vimos como modelar sistemas dinâmicos com *First-order Transition Systems* (FOTSs) e como verificar propriedades de segurança e animação sobre estes sistemas com *Bounded Model Checking* (BMC). O procedimento de BMC verifica se uma propriedade é válida num FOTS considerando apenas um número limitado de estados de execução. Se quisermos verificar uma propriedade para qualquer execução não limitada do FOTS temos que usar um procedimento alternativo. Nesta aula vamos usar indução para fazer verificação em traços não limitadados.\n",
        "\n",
        "Começamos por instalar o Z3."
      ]
    },
    {
      "cell_type": "code",
      "metadata": {
        "id": "E7lR0mEEYCsH",
        "colab": {
          "base_uri": "https://localhost:8080/"
        },
        "outputId": "e400461a-92df-40f1-c8b4-d08b2ab80804"
      },
      "source": [
        "!pip install z3-solver"
      ],
      "execution_count": 1,
      "outputs": [
        {
          "output_type": "stream",
          "name": "stdout",
          "text": [
            "Collecting z3-solver\n",
            "  Downloading z3_solver-4.8.12.0-py2.py3-none-manylinux1_x86_64.whl (33.0 MB)\n",
            "\u001b[K     |████████████████████████████████| 33.0 MB 18 kB/s \n",
            "\u001b[?25hInstalling collected packages: z3-solver\n",
            "Successfully installed z3-solver-4.8.12.0\n"
          ]
        }
      ]
    },
    {
      "cell_type": "markdown",
      "metadata": {
        "id": "_s3umjWjq2sd"
      },
      "source": [
        "## Verificação indutiva de invariantes\n",
        "\n",
        "No caso da verificação de propriedades de segurança $G\\ \\phi$, para verificar o invariante $\\phi$ por indução temos que verificar as seguintes condições:\n",
        "- $\\phi$ é válido nos estados iniciais, ou seja, $\\mathit{init}(s) \\rightarrow \\phi(s)$\n",
        "- Para qualquer estado, assumindo que $\\phi$ é verdade, se executarmos uma transição, $\\phi$ continua a ser verdade no próximo estado, ou seja, $\\phi(s) \\wedge \\mathit{trans}(s,s') \\rightarrow \\phi(s')$."
      ]
    },
    {
      "cell_type": "markdown",
      "metadata": {
        "id": "ExovCEMTq2se"
      },
      "source": [
        "### Exercício 1\n",
        "\n",
        "Implemente o método `induction_always` para verificação de invariantes por indução. Note que terá que testar a validade das duas condições acima recorrendo à satisfiabilidade, ou seja, usando o solver para encontrar contra-exemplos, devendo o procedimento reportar qual das propriedades falha. Por exemplo, no caso da primeira deve procurar uma valoração que satisfaça $\\mathit{init}(s) \\wedge \\neg \\phi(s)$."
      ]
    },
    {
      "cell_type": "code",
      "metadata": {
        "id": "eTlIix-2q2se"
      },
      "source": [
        "from z3 import *\n",
        "\n",
        "def induction_always(declare,init,trans,inv):\n",
        "    trace = [declare(i) for i in range(2)]\n",
        "\n",
        "    # testar invariante para os estados iniciais (Válidade de P se e só se ~P Unsat)\n",
        "    s = Solver()\n",
        "    #s.push()\n",
        "    s.add(init(trace[0]))\n",
        "    s.add(Not(inv(trace[0])))\n",
        "    if s.check() == sat:\n",
        "      m = s.model()\n",
        "      print('A propiedade falha no estado inicial.')\n",
        "      for i in trace[0]:\n",
        "        print(i,' = ', m[trace[0][i]])\n",
        "      return\n",
        "    if s.check() == unknown:\n",
        "      print('Inconclusivo...')\n",
        "      return\n",
        "\n",
        "    # testar o passo indutivo (Temos de lançar um novo solver ou fazer pop no antigo)\n",
        "    #s.pop()\n",
        "    s = Solver()\n",
        "    s.add(inv(trace[0]))\n",
        "    s.add(trans(trace[0],trace[1]))\n",
        "    s.add(Not(inv(trace[1])))\n",
        "    if s.check() == sat:\n",
        "      m = s.model()\n",
        "      print('A propiedade falha no estado inicial.')\n",
        "      for i in trace[0]:\n",
        "        print(i,' = ', m[trace[0][i]])\n",
        "      return\n",
        "    if s.check() == unknown:\n",
        "      print('Inconclusivo...')\n",
        "      return\n",
        "\n",
        "    print('A propriedade é válida!')"
      ],
      "execution_count": 10,
      "outputs": []
    },
    {
      "cell_type": "markdown",
      "metadata": {
        "id": "n7Tp8y0Tq2sg"
      },
      "source": [
        "Usando este procedimento podemos tentar verificar a propriedade $G (x \\ge 0)$ sobre o programa\n",
        "\n",
        "```Python\n",
        "{ x >= 3 }\n",
        "0: while (x>0):\n",
        "1:    x = x-1\n",
        "2: stop\n",
        "```"
      ]
    },
    {
      "cell_type": "code",
      "metadata": {
        "id": "M-rhnphYq2sh",
        "colab": {
          "base_uri": "https://localhost:8080/"
        },
        "outputId": "f5633431-0fdb-49e7-f3e8-725056a7e80a"
      },
      "source": [
        "def declare(i):\n",
        "    state = {}\n",
        "    state['pc'] = Int('pc'+str(i))\n",
        "    state['x'] = Int('x'+str(i))\n",
        "    return state\n",
        "\n",
        "def init(state):\n",
        "    return And(state['pc'] == 0, state['x']>=3)\n",
        "\n",
        "def trans(curr,prox):\n",
        "    t01 = And(curr['pc'] == 0,curr['x'] > 0,prox['pc'] == 1,prox['x'] == curr['x'])\n",
        "    t02 = And(curr['pc'] == 0,curr['x'] <= 0,prox['pc'] == 2,prox['x'] == curr['x'])\n",
        "    t10 = And(curr['pc'] == 1,prox['pc'] == 0,prox['x'] == curr['x']-1)\n",
        "    t22 = And(curr['pc'] == 2,prox['pc'] == 2,prox['x'] == curr['x'])\n",
        "    return Or(t02,t01,t10,t22)\n",
        "\n",
        "def positive(state):\n",
        "    return (state['x'] >= 0)\n",
        "\n",
        "induction_always(declare,init,trans,positive)"
      ],
      "execution_count": 11,
      "outputs": [
        {
          "output_type": "stream",
          "name": "stdout",
          "text": [
            "A propiedade falha no estado inicial.\n",
            "pc  =  1\n",
            "x  =  0\n"
          ]
        }
      ]
    },
    {
      "cell_type": "markdown",
      "metadata": {
        "id": "qwlKfE4gq2si"
      },
      "source": [
        "Como se pode verificar, a propriedade anterior, embora seja verdade, não pode ser verificada por indução, pois o passo indutivo falha quando $\\mathit{pc} = 1$ e $x = 0$. De facto, este contra-exemplo para o passo de indução não é realista, dado que este estado não é acessível a partir do estado inicial. Para verificarmos esta propriedade por indução temos que encontrar um invariante $\\phi$ que seja mais forte que o desejado, ou seja, $\\phi(x,\\mathit{pc}) \\rightarrow x \\ge 0$, e que seja verificável por indução."
      ]
    },
    {
      "cell_type": "markdown",
      "metadata": {
        "id": "2pXO5njkq2sj"
      },
      "source": [
        "### Exercício 2\n",
        "\n",
        "Encontre uma propriedade mais forte que $x \\ge 0$ e que seja verificável por indução."
      ]
    },
    {
      "cell_type": "code",
      "metadata": {
        "id": "f4lEpeshq2sj",
        "colab": {
          "base_uri": "https://localhost:8080/"
        },
        "outputId": "60fe34f8-c5cb-41b5-830b-eb28c07a4879"
      },
      "source": [
        "'''\n",
        "Temos de criar um invariante mais forte que aquele que é usado inicialmente.\n",
        "Devemos garantir que: if p = 1 then x > 0 else x >= 0\n",
        "'''\n",
        "\n",
        "def positivePlus(state):\n",
        "    return If(state['pc'] == 1,state['x'] > 0,state['x'] >= 0)\n",
        "\n",
        "induction_always(declare,init,trans,positivePlus)"
      ],
      "execution_count": 12,
      "outputs": [
        {
          "output_type": "stream",
          "name": "stdout",
          "text": [
            "A propriedade é válida!\n"
          ]
        }
      ]
    },
    {
      "cell_type": "markdown",
      "metadata": {
        "id": "ZYl6hfLaq2sk"
      },
      "source": [
        "### Exercício 3\n",
        "\n",
        "Utilize o Z3 para verificar que essa propriedade é realmente mais forte que $x \\ge 0$."
      ]
    },
    {
      "cell_type": "code",
      "metadata": {
        "id": "ftEnYAQ4q2sl",
        "colab": {
          "base_uri": "https://localhost:8080/",
          "height": 34
        },
        "outputId": "9366c355-6301-47a6-b216-d78efe42816a"
      },
      "source": [
        "# ~(pp(s)) -> p(s)) UNSAT \n",
        "\n",
        "s = Solver()\n",
        "state = declare(0)\n",
        "s.add(positivePlus(state))\n",
        "s.add(Not(positive(state)))\n",
        "\n",
        "# Verificar se acontece a implicação acima\n",
        "s.check()"
      ],
      "execution_count": 14,
      "outputs": [
        {
          "output_type": "execute_result",
          "data": {
            "text/html": [
              "<b>unsat</b>"
            ],
            "text/plain": [
              "unsat"
            ]
          },
          "metadata": {},
          "execution_count": 14
        }
      ]
    },
    {
      "cell_type": "markdown",
      "metadata": {
        "id": "-kBZIxZRq2sl"
      },
      "source": [
        "Nem sempre é fácil encontrar um invariante indutivo mais forte que o desejado. Um procedimento de verificação alternativo que pode ser utilizado nesses casos é a designada $k$-indução. A ideia é generalizar a indução simples assumindo no passo indutivo que o invariante é válido nos $k$ estados anteriores. Claro que neste caso também será necessário verificar que a propriedade é válida nos $k$ primeiros estados. Com esta generalização é possível verificar que $x \\ge 0$ é um invariante recorrendo a $k$-indução com $k=2$.\n",
        "\n",
        "###Definição de k-indução:\n",
        "\n",
        "$$\\frac{\\phi(S_0)...\\phi(S_{k-1})\\ \\ \\forall_n\\ \\phi(S_n) \\land... \\land \\phi(S_{n+k-1}) \\rightarrow \\phi(S_{n+k})} {\\forall_n \\cdot \\phi(S_n)}$$"
      ]
    },
    {
      "cell_type": "markdown",
      "metadata": {
        "id": "7ICWikCAq2sm"
      },
      "source": [
        "### Exercício 4\n",
        "\n",
        "Implemente o método `kinduction_always` para verificação de invariantes por $k$-indução."
      ]
    },
    {
      "cell_type": "code",
      "metadata": {
        "id": "XbVZXEOCq2sm",
        "colab": {
          "base_uri": "https://localhost:8080/"
        },
        "outputId": "bc92636e-2454-48fc-a9fe-fb938c33f1af"
      },
      "source": [
        "def kinduction_always(declare,init,trans,inv,k):\n",
        "    trace = [declare(i) for i in range(k+1)]\n",
        "\n",
        "    # testar invariante para os estados iniciais (Válidade de P se e só se ~P Unsat)\n",
        "    s = Solver()\n",
        "    s.add(init(trace[0]))\n",
        "    for i in range(k-1):\n",
        "      s.add(trans(trace[i],trace[i+1]))\n",
        "    s.add(Or([Not(inv(trace[i])) for i in range(k)]))\n",
        "    if s.check() == sat:\n",
        "      m = s.model()\n",
        "      print('A propiedade falha em pelo menos um dos',k,' primeiros estados.')\n",
        "      for i in trace[0]:\n",
        "        print(i,' = ', m[trace[0][i]])\n",
        "      return\n",
        "    if s.check() == unknown:\n",
        "      print('Inconclusivo...')\n",
        "      return\n",
        "\n",
        "    # testar o passo indutivo\n",
        "    s = Solver()\n",
        "    for i in range(k):\n",
        "      s.add(trans(trace[i],trace[i+1]))\n",
        "      s.add(inv(trace[i]))\n",
        "    s.add(Not(inv(trace[k]))) # no estado final\n",
        "    if s.check() == sat:\n",
        "      m = s.model()\n",
        "      print('A propiedade falha num dos estados.')\n",
        "      for i in trace[0]:\n",
        "        print(i,' = ', m[trace[0][i]])\n",
        "      return\n",
        "    if s.check() == unknown:\n",
        "      print('Inconclusivo...')\n",
        "      return\n",
        "\n",
        "    print('A propriedade é válida!')\n",
        "   \n",
        "\n",
        "kinduction_always(declare,init,trans,positive,2)"
      ],
      "execution_count": 15,
      "outputs": [
        {
          "output_type": "stream",
          "name": "stdout",
          "text": [
            "A propriedade é válida!\n"
          ]
        }
      ]
    },
    {
      "cell_type": "markdown",
      "metadata": {
        "id": "us3fkVlVq2sn"
      },
      "source": [
        "## Verificação de propriedades de animação por indução\n",
        "\n",
        "Como vimos, podemos verificar propriedades de animação do tipo $F\\ \\phi$ usando BMC. Mais uma vez, se quisermos verificar estas propriedades para qualquer execução ilimitada temos que usar um procedimento alternativo. Uma possibilidade consiste em reduzir a verificação dessas propriedades à verificação de uma propriedade de segurança, mais concretamente um invariante, que possa ser verificado por indução.\n",
        "\n",
        "Por exemplo, uma técnica que pode ser usada para verificar uma propriedade de animação do tipo $F\\ (G\\ \\phi)$, passa por descobrir um *variante* $V$ que satisfaz as seguintes condições:\n",
        "- O variante nunca é negativo, ou seja, $G\\ (V(s) \\ge 0)$\n",
        "- O variante descresce sempre (estritamente) ou atinge o valor 0, ou seja, $G\\ (\\forall s' . \\mathit{trans}(s,s') \\rightarrow (V(s') < V(s) \\vee V(s') = 0))$\n",
        "- Quando o variante é 0 verifica-se necessariamente $\\phi$, ou seja, $G\\ (V(s)=0 \\rightarrow \\phi(s))$\n",
        "\n",
        "A terminação de um programa é um dos exemplos de propriedade que encaixa neste padrão. Por exemplo, para o programa acima a terminação pode ser expressa por $F\\ (G\\ \\mathit{pc}=2)$ (note que devido ao lacete no estado final, o programa permanece indefinidamente no estado final).\n",
        "\n",
        "Note que a segunda condição recorre a uma quantificação universal sobre os possíveis estados alcançáveis por uma transição a partir de cada estado."
      ]
    },
    {
      "cell_type": "markdown",
      "metadata": {
        "id": "mMQvyYUJq2sn"
      },
      "source": [
        "### Exercício 5\n",
        "\n",
        "Descubra o variante que permite provar por indução que o programa acima termina. Encontre também os menores valores de $k$ que permitem provar as condições acima por $k$-indução.\n",
        "\n",
        "**Variante:** $2 \\times X - Pc + 2$"
      ]
    },
    {
      "cell_type": "code",
      "metadata": {
        "id": "BSw7u8Peq2so",
        "colab": {
          "base_uri": "https://localhost:8080/"
        },
        "outputId": "098a3f19-c50f-4ca4-f001-1539aebc6d32"
      },
      "source": [
        "def variante(state):\n",
        "  return (2*state['x'] - state['pc'] + 2)\n",
        "\n",
        "def variante_positivo(state):\n",
        "  return (variante(state) >= 0)\n",
        "\n",
        "kinduction_always(declare,init,trans,variante_positivo,3)"
      ],
      "execution_count": 21,
      "outputs": [
        {
          "output_type": "stream",
          "name": "stdout",
          "text": [
            "A propriedade é válida!\n"
          ]
        }
      ]
    },
    {
      "cell_type": "markdown",
      "metadata": {
        "id": "9QJB46sNq2so"
      },
      "source": [
        "### Exercício 6\n",
        "\n",
        "Encontrar um variante que decresça em todas as transições nem sempre é fácil. Podemos relaxar a segunda condição acima e exigir que o variante apenas tenha que decrescer estritamente a cada $l$ transições. Neste caso dizemos que temos um *lookahead* de $l$. Altere a definição da função decrescente por forma a considerar um lookahead de 2 e encontre um variante mais simples que o anterior que lhe permita verificar a terminação do programa.\n",
        "\n",
        "### Especificação:\n",
        "\n",
        "$$\\forall_{s'}, trans (s,s') \\rightarrow V(s') < V(s) \\lor V(s') = 0$$"
      ]
    },
    {
      "cell_type": "code",
      "metadata": {
        "id": "U8xmhg1lq2sp"
      },
      "source": [
        "def variante_decrescente(state):\n",
        "  state1 = declare(-1)\n",
        "  #return (Forall(list(state1.values()),Implies(trans(state,state1),Or(state < state1,state1 = 0))))"
      ],
      "execution_count": null,
      "outputs": []
    }
  ]
}
