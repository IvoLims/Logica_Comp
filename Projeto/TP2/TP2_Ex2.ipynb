{
  "nbformat": 4,
  "nbformat_minor": 0,
  "metadata": {
    "colab": {
      "name": "TP2_Ex2.ipynb",
      "provenance": [],
      "collapsed_sections": []
    },
    "kernelspec": {
      "display_name": "Python 3",
      "name": "python3"
    },
    "language_info": {
      "name": "python"
    }
  },
  "cells": [
    {
      "cell_type": "markdown",
      "metadata": {
        "id": "djp3uJBUGfAv"
      },
      "source": [
        "## Lógica Computacional: 21/22## \n",
        "---\n",
        "##Trabalho 2## \n",
        "\n",
        "$Grupo$ $7$ \n",
        "\n",
        "*   David José de Sousa Machado (A91665)\n",
        "*   Ivo Miguel Gomes Lima (A90214)\n",
        "---\n",
        "#Inicialização\n",
        "\n",
        "Para a resolução destes exercícios usamos a biblioteca [OR-Tools](https://developers.google.com/optimization) que criou uma interface para o SCIP. Esta biblioteca foi instalada com o commando `!pip install ortools`."
      ]
    },
    {
      "cell_type": "code",
      "metadata": {
        "id": "ei7BCWvT3tBY",
        "colab": {
          "base_uri": "https://localhost:8080/"
        },
        "outputId": "4b1aadf6-0c05-493d-d3db-5da09ba2bd4f"
      },
      "source": [
        "!pip install ortools"
      ],
      "execution_count": 2,
      "outputs": [
        {
          "output_type": "stream",
          "name": "stdout",
          "text": [
            "Requirement already satisfied: ortools in /usr/local/lib/python3.7/dist-packages (9.1.9490)\n",
            "Requirement already satisfied: absl-py>=0.13 in /usr/local/lib/python3.7/dist-packages (from ortools) (1.0.0)\n",
            "Requirement already satisfied: protobuf>=3.18.0 in /usr/local/lib/python3.7/dist-packages (from ortools) (3.19.1)\n",
            "Requirement already satisfied: six in /usr/local/lib/python3.7/dist-packages (from absl-py>=0.13->ortools) (1.15.0)\n"
          ]
        }
      ]
    },
    {
      "cell_type": "code",
      "metadata": {
        "id": "RaFoAsH431Zy"
      },
      "source": [
        "import networkx as nx\n",
        "import random\n",
        "import numpy as np\n",
        "import math\n",
        "from ortools.linear_solver import pywraplp"
      ],
      "execution_count": 3,
      "outputs": []
    },
    {
      "cell_type": "markdown",
      "metadata": {
        "id": "CjHs_T4QGKjH"
      },
      "source": [
        "# Problema 2:\n",
        "2. Considere-se um circuito booleano $\\,\\mathcal{C}\\,$ com $\\,n\\,$ “wires” de “input” e um único “wire” de output.\n",
        "    - O circuito é descrito num bi-grafo com uma classe de nodos representando “gates” e a segunda classe representando “wires” . \n",
        "    - Cada nodo contém um campo val cujo conteúdo descreve a semântica desse nodo; para os “wires” o campo val contém uma variável SCIP; para as “gates” o campo val contém uma marca bo conjunto and, or, xor e not, que indica o tipo de “gate”. \n",
        "    - Com exceção de not, que é um operador unário, todas as restantes “gates” têm um número arbitrário de “inputs” e um único “output”.\n",
        "    - No grafo os arcos com origem numa determinada “gate” têm destino nos “wires” que são “input” dessa “gate”. Cada “wire” que não é “input” é origem de um único arco que tem como destino a “gate” do qual esse “wire” é “output”.\n",
        "    - A semântica das várias “gates” é expressa em relações na Aritmética Linear Inteira, tal como está descrita em +Capítulo 2: Programação com Restrições (#LIA)\n",
        "\n",
        "    1. Escreva um programa que, a partir do número, $n$ de “inputs” e de um parâmetro positivo $\\gamma \\ll 1$ como argumentos, gere aleatoriamente circuitos com “gates” or, and e not em que o número de and's é $\\gamma \\ast$ (número total de nodos).\n",
        "    2. Escreva um programa Python que leia um circuito arbitrário descrito pelo bi-grafo anterior e formule as restrições (em Programação Inteira) que descrevem as várias “gates” do circuito.\n",
        "    3. Usando os dois programas anteriores e o sistema SCIP, \n",
        "        1. Escreva um programa que determine um vetor de “inputs” $x \\in \\{0,1\\}^n$ aceite pelo circuito (i.e. o respetivo output é $1$).\n",
        "        2. Determine o vetor $x' \\neq x$ , também aceite pelo circuito, que está mais próximo de $x$. \n",
        "        "
      ]
    },
    {
      "cell_type": "markdown",
      "metadata": {
        "id": "Vw7ZM1_yppNo"
      },
      "source": [
        "**Gerar o circuito**\n",
        "\n",
        "De forma a garantirmos que $and = \\gamma \\times $(número total de nodos) é uma condição válida, criamos uma função chamada `calc_and` que dado o valor de n e $\\gamma$ acumula os resultados de $n \\times \\gamma \\times 2 $ enquanto $n > 1$ o que resulta no numero de nós do grafo. \n",
        "\n",
        "> Nota: Esperamos que $\\gamma$ seja menor que 0.5\n",
        "#Implementação"
      ]
    },
    {
      "cell_type": "code",
      "metadata": {
        "id": "ZV2XOLz9GLWm"
      },
      "source": [
        "def desenha(circ):\n",
        "    labels = {n : circ.nodes[n]['node_type'] for n in circ}\n",
        "    dic = {\n",
        "        \"INPUT\": \"#FFEF78\",\n",
        "        \"WIRE\": \"#B1FFFD\",\n",
        "        \"AND\": \"#9C19E0\",\n",
        "        \"NOT\": \"#FF5DA2\",\n",
        "        \"OR\": \"#1597BB\"\n",
        "    }\n",
        "    colors = [dic[circ.nodes[n]['node_type']] for n in circ]\n",
        "    nx.draw(circ, with_labels=True, labels=labels, node_size = 800, node_color=colors, font_weight='bold', pos = nx.spring_layout(circ)) \n",
        "\n",
        "def calc_and(n, gamma):\n",
        "    n *= gamma * 2\n",
        "    acc = n\n",
        "\n",
        "    while n > 1:\n",
        "        n *= gamma * 2\n",
        "        acc += n\n",
        "  \n",
        "    return math.floor(acc) if math.floor(acc) % 2 == 0 else math.floor(acc) + 1\n",
        "\n",
        "def gera_circuito(n, gamma):\n",
        "    ors = random.randint(1, n) * 2\n",
        "    nots = random.randint(1, n) * 2\n",
        "    ands = calc_and(n+ors+nots, gamma)\n",
        "    circuito = nx.DiGraph()\n",
        "    gates = {\n",
        "        \"AND\": (n, n+ands),\n",
        "        \"OR\": (n+ands, n+ands+ors),\n",
        "        \"NOT\": (n+ands+ors, n+ands+ors+nots)\n",
        "    }\n",
        "\n",
        "    # adding inputs\n",
        "    for i in range(n):\n",
        "        circuito.add_node(i, node_type=\"INPUT\")\n",
        "    # adding gates\n",
        "    for n_type, (start, end) in gates.items():\n",
        "        for i in range(start, end, 2):\n",
        "            circuito.add_node(i, node_type=n_type)\n",
        "            circuito.add_node(i+1, node_type=\"WIRE\", val=None)\n",
        "            # ligar gate ao wire\n",
        "            circuito.add_edge(i, i+1)\n",
        "    \n",
        "    output = random.sample(list(range(gates[\"AND\"][0]+1, gates[\"OR\"][1], 2)), 1)[0]\n",
        "    wires = {el for el in range(gates[\"AND\"][0]+1, gates[\"NOT\"][1], 2) if el != output}\n",
        "    wires.union(set(range(0, gates[\"AND\"][0])))\n",
        "\n",
        "    vis = set()\n",
        "    stack = [output]\n",
        "    while stack and wires:\n",
        "        el = stack.pop()\n",
        "\n",
        "        if el in vis: continue\n",
        "        vis.add(el)\n",
        "\n",
        "        inputs = random.sample(wires, 1) if circuito.nodes[el][\"node_type\"] == \"NOT\" else random.sample(wires, random.randint(1, len(wires)))\n",
        "        \n",
        "        for input in inputs:\n",
        "            circuito.add_edge(input, el-1)\n",
        "            stack.append(input)\n",
        "            wires.remove(input)\n",
        "    \n",
        "\n",
        "    disconnected = [el for el in range(gates[\"AND\"][0], gates[\"NOT\"][1], 2) if circuito.in_degree(el) == 0]\n",
        "    for disc in disconnected:\n",
        "        inp = random.randint(0, n-1) \n",
        "        circuito.add_edge(inp, disc)\n",
        "\n",
        "    # ligar inputs a pelo menos uma gate\n",
        "    for i in range(n):\n",
        "        if circuito.out_degree(i) == 0:\n",
        "            circuito.add_edge(i, output-1)\n",
        "    \n",
        "    gates[\"OUTPUT\"] = output\n",
        "\n",
        "    return gates, circuito"
      ],
      "execution_count": 4,
      "outputs": []
    },
    {
      "cell_type": "code",
      "metadata": {
        "colab": {
          "base_uri": "https://localhost:8080/",
          "height": 319
        },
        "id": "uM1L0S2c5vVV",
        "outputId": "e9f27708-107f-43ba-84ea-252d7f27b8e0"
      },
      "source": [
        "n, g = 5, 0.1\n",
        "gates, circ = gera_circuito(n, g)\n",
        "desenha(circ)"
      ],
      "execution_count": 5,
      "outputs": [
        {
          "output_type": "display_data",
          "data": {
            "image/png": "[encoded data removed]",
            "text/plain": [
              "<Figure size 432x288 with 1 Axes>"
            ]
          },
          "metadata": {}
        }
      ]
    },
    {
      "cell_type": "markdown",
      "metadata": {
        "id": "zlL7KLI4e9bd"
      },
      "source": [
        "**Análise do Problema**\n",
        "\n",
        "Tendo em conta o material fornecido pelo docente da disciplina [aqui](https://paper.dropbox.com/doc/Capitulo-2-Programacao-com-Restricoes-x8IebJsYYIvi0KYezj4Uu#:uid=140371385393078716549042&h2=Restri%C3%A7%C3%B5es-booleanas) podemos formalizar o seguinte conjunto de restrições:\n",
        "\n",
        "1.   Tomando $X$ como a lista que contém todos os nodos ligados, para o caso da *gate* tipo $And$ devemos levar em conta o menor valor de *input*. Ou seja:\n",
        "\n",
        "$$\\forall_{n \\in X} \\ X_n \\geq X_i \\cdot \\sum_{i \\in X} X_n < X_i + len_{inputs}(X) $$\n",
        "\n",
        "2.   Para um *gate* $Or$ temos de ter em atenção o maior valor de *input* pois o *output* depende dele. Isto é:\n",
        "$$\\forall_{n \\in X} \\ X_n \\leq X_i \\cdot \\sum_{i \\in X} X_n \\geq X_i$$\n",
        "\n",
        "3.   No tipo $Not$ a lista que contém todos os nodos ligados apenas possui 1 elemento, isto significa que se $X_n = 0 \\rightarrow X_i = 1$ e vice-versa.\n",
        "$$ X_n + Xi = 1 $$"
      ]
    },
    {
      "cell_type": "code",
      "metadata": {
        "id": "j5-P1lhsEumj"
      },
      "source": [
        "def make_solver(G, gates):\n",
        "    solver = pywraplp.Solver.CreateSolver(\"SCIP\")\n",
        "    wires = [n for n in G if G.nodes[n][\"node_type\"] == \"WIRE\"]\n",
        "    X = {input: solver.BoolVar(str(input)) for input in G if G.nodes[input][\"node_type\"] == \"INPUT\" or G.nodes[input][\"node_type\"] == \"WIRE\"}\n",
        "\n",
        "\n",
        "    for n in wires:\n",
        "        inputs = [s for (s,t) in G.in_edges(n-1)]\n",
        "\n",
        "        if G.nodes[n-1][\"node_type\"] == \"AND\":\n",
        "            solver.Add(sum(X[i] for i in inputs) <= X[n]+len(inputs) - 1)\n",
        "            for i in inputs:\n",
        "                solver.Add(X[i] >= X[n])\n",
        "        elif G.nodes[n-1][\"node_type\"] == \"OR\":\n",
        "            solver.Add(X[n] <= sum(X[i] for i in inputs))\n",
        "            for i in inputs:\n",
        "                solver.Add(X[i] <= X[n])\n",
        "        elif G.nodes[n-1][\"node_type\"] == \"NOT\":\n",
        "            solver.Add(X[n] + X[inputs[0]] == 1)\n",
        "    \n",
        "    return solver, X"
      ],
      "execution_count": 6,
      "outputs": []
    },
    {
      "cell_type": "markdown",
      "metadata": {
        "id": "M0rEN_QdvaUp"
      },
      "source": [
        "**Resolver o circuito**"
      ]
    },
    {
      "cell_type": "code",
      "metadata": {
        "id": "t_AguEpjyNkt"
      },
      "source": [
        "def solve_circ(G, gates):\n",
        "    solver, X = make_solver(G, gates)\n",
        "\n",
        "    solver.Add(X[gates['OUTPUT']] == 1)\n",
        "\n",
        "    status = solver.Solve()\n",
        "    if status == pywraplp.Solver.OPTIMAL:\n",
        "        for n in X:\n",
        "            G.nodes[n]['val'] = round(X[n].solution_value())\n",
        "        \n",
        "        res1 = [round(X[i].solution_value()) for i in range(gates[\"AND\"][0])]\n",
        "        if solver.NextSolution():\n",
        "            res2 = [round(X[i].solution_value()) for i in range(gates[\"AND\"][0])]\n",
        "            return res1,res2\n",
        "        else:\n",
        "            return res1\n",
        "    else:\n",
        "        print(\"no solution found\")"
      ],
      "execution_count": 7,
      "outputs": []
    },
    {
      "cell_type": "code",
      "metadata": {
        "colab": {
          "base_uri": "https://localhost:8080/"
        },
        "id": "fkZ9pCn8pGOz",
        "outputId": "1d4fc9e7-b3d6-484e-f9b3-0a5b50a1dcf2"
      },
      "source": [
        "solve_circ(circ, gates)"
      ],
      "execution_count": 8,
      "outputs": [
        {
          "output_type": "execute_result",
          "data": {
            "text/plain": [
              "[1, 0, 1, 1, 1]"
            ]
          },
          "metadata": {},
          "execution_count": 8
        }
      ]
    }
  ]
}