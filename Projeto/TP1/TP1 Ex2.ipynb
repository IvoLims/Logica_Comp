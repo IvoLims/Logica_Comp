{
  "nbformat": 4,
  "nbformat_minor": 0,
  "metadata": {
    "colab": {
      "name": "Cópia de TP1 Ex2.ipynb",
      "provenance": [],
      "collapsed_sections": []
    },
    "kernelspec": {
      "name": "python3",
      "display_name": "Python 3"
    },
    "language_info": {
      "name": "python"
    }
  },
  "cells": [
    {
      "cell_type": "markdown",
      "metadata": {
        "id": "4QV8hYQ5RFmS"
      },
      "source": [
        "## Lógica Computacional: 21/22## \n",
        "---\n",
        "##Trabalho 1## \n",
        "\n",
        "$Grupo$ $7$ \n",
        "\n",
        "*   David José de Sousa Machado (A91665)\n",
        "*   Ivo Miguel Gomes Lima (A90214)\n",
        "---\n",
        "#Inicialização\n",
        "\n",
        "Para a resolução destes exercícios usamos a biblioteca [OR-Tools](https://developers.google.com/optimization) que criou uma interface para o SCIP. Esta biblioteca foi instalada com o commando `pip install ortools`."
      ]
    },
    {
      "cell_type": "code",
      "metadata": {
        "colab": {
          "base_uri": "https://localhost:8080/"
        },
        "id": "VS2E18lJ_LiH",
        "outputId": "bf273a2e-ce5d-4b71-bdfc-85123b8fb9a3"
      },
      "source": [
        "!pip install ortools"
      ],
      "execution_count": 2,
      "outputs": [
        {
          "output_type": "stream",
          "name": "stdout",
          "text": [
            "Requirement already satisfied: ortools in /usr/local/lib/python3.7/dist-packages (9.1.9490)\n",
            "Requirement already satisfied: absl-py>=0.13 in /usr/local/lib/python3.7/dist-packages (from ortools) (0.15.0)\n",
            "Requirement already satisfied: protobuf>=3.18.0 in /usr/local/lib/python3.7/dist-packages (from ortools) (3.19.0)\n",
            "Requirement already satisfied: six in /usr/local/lib/python3.7/dist-packages (from absl-py>=0.13->ortools) (1.15.0)\n"
          ]
        }
      ]
    },
    {
      "cell_type": "code",
      "metadata": {
        "id": "eXghNpiM-wh3"
      },
      "source": [
        "import networkx as nx\n",
        "from ortools.linear_solver import pywraplp\n",
        "import numpy as np\n",
        "import matplotlib.pyplot as plt\n",
        "from IPython.display import HTML, display\n",
        "from tabulate import tabulate\n",
        "import timeit\n",
        "import random\n",
        "\n",
        "np.set_printoptions(threshold=np.inf, linewidth=np.inf)"
      ],
      "execution_count": 3,
      "outputs": []
    },
    {
      "cell_type": "markdown",
      "metadata": {
        "id": "JQN9idbsHJTS"
      },
      "source": [
        "# Problema 2: Sudoku\n",
        "\n",
        "\n",
        " Tradicional o jogo Sudoku tem dimensoes $3 \\times 3$ (corresponde ao caso $N=3$), o nosso objetivo é preencher uma grelha de $\\,N^2\\times N^2\\,$ com inteiros positivos no intervalo $\\,1$ até $\\,N^2\\,$, satisfazendo as seguintes regras:\n",
        "     \n",
        "  >Cada inteiro no intervalo $1$ até $N^2,$ocorre  só uma vez em cada coluna, linha e secção $ N\\times N$.\n",
        "\n",
        "  >No início do jogo uma fração $0<\\ \\alpha < 1\\,$ das $N^4$ casas da grelha são preenchidas de forma consistente com a regra anterior.\n",
        "    \n",
        "As condições exigidas foram:\n",
        "1. Um programa que inicialize a grelha a partir dos parâmetros $N$ e $\\alpha$\n",
        "2. Apresentação de uma solução para  as combinações de parâmetros $N\\in(3,4,5,6)$  e$ \\ \\alpha \\in (0.0,0.2,0.4,0.6) $ . Tirando ainda conclusões relativamente à complexidade computacional das mesmas.\n",
        "\n",
        "#Implementação\n",
        "\n",
        "#$1.$\n"
      ]
    },
    {
      "cell_type": "code",
      "metadata": {
        "id": "HZZAvelhLLND"
      },
      "source": [
        "def gerar_sudoku(n, alpha):\n",
        "  leng = n**2\n",
        "  matrix = np.zeros((leng, leng))\n",
        "  dispensable = round((1-alpha) * n**4)\n",
        "\n",
        "  # gera sudoku correcto\n",
        "  for line in range(leng):\n",
        "    aux = line // n\n",
        "    for col in range(leng):\n",
        "      val = line*n + col + aux\n",
        "      matrix[line][col] = val % leng + 1\n",
        "  \n",
        "  # mistura aleatoriamente\n",
        "  for step in range(0, leng, n):\n",
        "    for _ in range(leng):\n",
        "      r1 = random.randint(0, n-1)\n",
        "      r2 = random.randint(1, n-1)\n",
        "      l1 = r1 + step\n",
        "      l2 = (r1 + r2) % n + step\n",
        "\n",
        "      matrix[[l1, l2]] = matrix[[l2, l1]]\n",
        "\n",
        "  for step in range(0, leng, n):\n",
        "    for _ in range(leng):\n",
        "      r1 = random.randint(0, n-1)\n",
        "      r2 = random.randint(1, n-1)\n",
        "      c1 = r1 + step\n",
        "      c2 = (r1 + r2) % n + step\n",
        "\n",
        "      matrix[:, [c1, c2]] = matrix[:, [c2, c1]]\n",
        "\n",
        "  solution = np.copy(matrix)\n",
        "\n",
        "  # apagar elementos\n",
        "  while dispensable > 0:\n",
        "    x = random.randint(0, leng-1)\n",
        "    y = random.randint(0, leng-1)\n",
        "    if matrix[x, y] != 0:\n",
        "      dispensable -= 1\n",
        "    matrix[x, y] = 0\n",
        "\n",
        "  return solution.astype(int).tolist(), matrix.astype(int).tolist()"
      ],
      "execution_count": null,
      "outputs": []
    },
    {
      "cell_type": "code",
      "metadata": {
        "colab": {
          "base_uri": "https://localhost:8080/"
        },
        "id": "e0JvdAtk_Q28",
        "outputId": "1013867a-d7ce-4191-cd8e-0ee92946d767"
      },
      "source": [
        "solved, unsolved = gerar_sudoku(3, 0)\n",
        "unsolved"
      ],
      "execution_count": null,
      "outputs": [
        {
          "output_type": "execute_result",
          "data": {
            "text/plain": [
              "[[0, 0, 0, 0, 0, 0, 0, 0, 0],\n",
              " [0, 0, 0, 0, 0, 0, 0, 0, 0],\n",
              " [0, 0, 0, 0, 0, 0, 0, 0, 0],\n",
              " [0, 0, 0, 0, 0, 0, 0, 0, 0],\n",
              " [0, 0, 0, 0, 0, 0, 0, 0, 0],\n",
              " [0, 0, 0, 0, 0, 0, 0, 0, 0],\n",
              " [0, 0, 0, 0, 0, 0, 0, 0, 0],\n",
              " [0, 0, 0, 0, 0, 0, 0, 0, 0],\n",
              " [0, 0, 0, 0, 0, 0, 0, 0, 0]]"
            ]
          },
          "metadata": {},
          "execution_count": 38
        }
      ]
    },
    {
      "cell_type": "markdown",
      "metadata": {
        "id": "jA6daeSBK-Y5"
      },
      "source": [
        "# 2.\n",
        "Uma vez que tivemos de adotar uma estratégica lógica acabamos por pensar no Sudoku como um grafo onde cada linha\\coluna apenas pode ter uma cor, ou seja transformou-se num problema de coloração de grafos.\n",
        "\n",
        "Para o efeito criamos um grafo com $n⁴$ vértices $V$ e $ \\frac{((2(n²-1)+(n-1)^2)\\times n⁴)}{2}$ arestas $E$, que obedeçam às seguintes regras:   \n",
        "\n",
        "1. $\\forall_{(o,d)} \\in E, \\forall_{0 \\le c < k} \\cdot x_{o,c} + x_{d, c} \\le 1$  \n",
        "2. $\\forall_v \\in V, \\sum_{0 \\le c < k} \\cdot x_{v,c} = 1$  "
      ]
    },
    {
      "cell_type": "code",
      "metadata": {
        "id": "fRhJ6d35Klkp"
      },
      "source": [
        "def solve_color_ip(graph, k):\n",
        "    solver = pywraplp.Solver.CreateSolver('BOP')\n",
        "\n",
        "    # criar dicionario de variaveis x{i,j}\n",
        "    x = {}\n",
        "    for v in graph:\n",
        "      x[v] = {}\n",
        "      for c in range(k):\n",
        "        x[v][c] = solver.BoolVar('x[%i][%i]' % (v,c))\n",
        "    \n",
        "    # Adicionar cores predefinidas\n",
        "    for v in graph:\n",
        "      if graph.nodes[v]['color'] == 0: # não tem cor\n",
        "        continue\n",
        "      for c in range(k):\n",
        "        if (graph.nodes[v]['color']-1) == c: # tem a cor c\n",
        "          solver.Add(x[v][c] == 1)\n",
        "        else:\n",
        "          solver.Add(x[v][c] == 0)\n",
        "    \n",
        "    # vertices adjacentes tem cores diferentes\n",
        "    for o, d in graph.edges:\n",
        "      for c in range(k):\n",
        "        solver.Add(x[o][c] + x[d][c] <= 1)\n",
        "    \n",
        "    # cada vertice adjacente tem cores diferentes\n",
        "    for v in graph:\n",
        "      solver.Add(sum(x[v][c] for c in range(k)) == 1)\n",
        "\n",
        "    status = solver.Solve()\n",
        "\n",
        "    if status == pywraplp.Solver.OPTIMAL:\n",
        "      for v in graph:\n",
        "        for c in range(k):\n",
        "          if (round(x[v][c].solution_value()) == 1):\n",
        "            graph.nodes[v]['color'] = c + 1\n",
        "      return True\n",
        "    \n",
        "    return False"
      ],
      "execution_count": null,
      "outputs": []
    },
    {
      "cell_type": "code",
      "metadata": {
        "id": "7Td2LqRdCist"
      },
      "source": [
        "def draw_with_colors(graph):\n",
        "    nx.draw(graph, with_labels=True, node_size=1000, node_color = [graph.nodes[n]['color'] for n in graph], pos = nx.shell_layout(graph))\n",
        "\n",
        "def draw_board(graph, leng):\n",
        "  for pos, color in graph.nodes.data():\n",
        "    if pos % leng == 0:\n",
        "      print()\n",
        "    print(\"{:3}\".format(color['color']), end=\" \")"
      ],
      "execution_count": null,
      "outputs": []
    },
    {
      "cell_type": "code",
      "metadata": {
        "id": "PjVVSfNqDxc8"
      },
      "source": [
        "def solve_sudoku_graph(n, initial):\n",
        "  leng = n**2\n",
        "  tab = nx.Graph()\n",
        "\n",
        "  tab.add_nodes_from(list(range(leng**2)))\n",
        "  arestas = []\n",
        "\n",
        "  # edges linhas\n",
        "  for head in range(0, leng**2, leng):\n",
        "    line = list(range(head, head+leng))\n",
        "    for x in range(leng):\n",
        "      arestas += [(line[x], ind) for ind in line[x+1:]]\n",
        "  \n",
        "  # edges colunas\n",
        "  for head in range(leng):\n",
        "    col = list(range(head, leng**2, leng))\n",
        "    for x in range(leng):\n",
        "      arestas += [(col[x], ind) for ind in col[x+1:]]\n",
        "  \n",
        "  # edges quadrado\n",
        "  corners = []\n",
        "\n",
        "  for i in range(n):\n",
        "    corners += list(range(leng*n*i, leng*n*i+leng, n))\n",
        "\n",
        "  for corner in corners:\n",
        "    step = n*(n-1)\n",
        "    elements = range(corner, corner+leng)\n",
        "    quadrado = [elements[ind] + step*(ind // n) for ind in range(leng)]\n",
        "    for x in range(leng):\n",
        "      arestas += [(quadrado[x], ind) for ind in quadrado[x+1:]]\n",
        "  \n",
        "  tab.add_edges_from(arestas)\n",
        "  #end\n",
        "  \n",
        "  tab.add_edges_from(arestas)\n",
        "\n",
        "  for row in range(leng):\n",
        "    for col in range(leng):\n",
        "      tab.nodes[row*leng + col]['color'] = initial[row][col]\n",
        "  \n",
        "  if solve_color_ip(tab, leng):\n",
        "    return tab\n",
        "\n",
        "  return False"
      ],
      "execution_count": null,
      "outputs": []
    },
    {
      "cell_type": "code",
      "metadata": {
        "colab": {
          "base_uri": "https://localhost:8080/"
        },
        "id": "rdIvnc7IRuyu",
        "outputId": "43c3cc19-4342-4c30-fb6d-c5c669ee7a8d"
      },
      "source": [
        "n, alpha = 5, 0.4\n",
        "\n",
        "solucao, tabuleiro = gerar_sudoku(n, alpha)\n",
        "\n",
        "graph = solve_sudoku_graph(n, tabuleiro)\n",
        "print(graph)\n",
        "draw_board(graph, n**2)"
      ],
      "execution_count": null,
      "outputs": [
        {
          "output_type": "stream",
          "name": "stdout",
          "text": [
            "Graph with 625 nodes and 20000 edges\n",
            "\n",
            " 11   8  17  14  13  12   3  19  20   9  24  16  21  25  15   4   2  22   1  18  10   6   5  23   7 \n",
            "  3  22  25  24  21   2  13   1   5   4   8  14   6  10  23  12  15   9  11   7  19  16  17  18  20 \n",
            "  6   7  20   9  10  17  16  11  15   8  18  19   5   2  22  24  14  25  21  23   4   1  12  13   3 \n",
            " 16  19  12  23  18  22   7  21  10  24  17   4   1  20   9   3   5  13   6   8  14  11  15   2  25 \n",
            "  1   2   5   4  15  25  23   6  18  14  13  12  11   3   7  19  20  17  10  16  24  21  22   8   9 \n",
            " 17  15  16  10  14  24  19   2  21  20  22  13  12   1  25  18   4   3  23   6   5   7   8   9  11 \n",
            " 25  18  11  20  19  23   9  22   1  13   7   5   4   6   3  10  17   8   2  21  15  12  16  14  24 \n",
            " 24   3   6  21   4   8  18  17  11  10  14  15  20  16   2   5  12   7  19   9  25  13  23  22   1 \n",
            " 22  12   1   7   2   3   4  25   6   5   9  23  10  11   8  15  16  24  13  14  20  19  18  17  21 \n",
            "  9  13   8   5  23   7  14  12  16  15  19  24  17  21  18  25  11   1  22  20   6   2   3   4  10 \n",
            "  4  21   7   6  20   9   8   5  12  11  15  10  16  17  14  13  22  19  18  25   1  23  24   3   2 \n",
            " 23  25   2   1   5   4  24   3  17   6  20  11   8  12  13  16  10  14   9  15  21  18  19   7  22 \n",
            " 13  14  15  16   8  19  20  18  22  21  25   1   2  23  24   6   7   4   3   5  11  17   9  10  12 \n",
            " 18  17  22  19   3  10  25  23   2   1   5   6   9   7   4  11  21  12   8  24  16  20  14  15  13 \n",
            " 12   9  10  11  24  14  15  13   7  16   3  21  18  22  19   1  23   2  20  17   8  25   4   5   6 \n",
            "  7   5  21   2   6  15  11   4  13  22  23  17  14   8  12   9  25  20  16  19   3  24  10   1  18 \n",
            " 14  24  13  15  11  16  10   9  23  17  21  22  19  18  20   2   3   5  12   1   7   4  25   6   8 \n",
            "  8  10  18  17   9  20  21  14   3  19   1  25  24   4  16  22   6  23   7  13  12   5   2  11  15 \n",
            " 19  16   3  25   1   5   6  24   8  12  11   2   7  13  10  17  18  15  14   4  22   9  20  21  23 \n",
            " 20   4  23  12  22  18   1   7  25   2   6   9   3  15   5  21   8  10  24  11  17  14  13  19  16 \n",
            " 21   6   9   8   7  13  12  10  14  25  16  18  15  19  17  23  24  11   5  22   2   3   1  20   4 \n",
            "  5  11  24  22  16   1   2  20   4   3  10   8  23   9   6  14  13  21  17  12  18  15   7  25  19 \n",
            " 10  23  14  13  12  11  17  15  19   7   4   3  22  24  21  20   1  18  25   2   9   8   6  16   5 \n",
            "  2   1   4   3  25   6   5   8   9  18  12  20  13  14  11   7  19  16  15  10  23  22  21  24  17 \n",
            " 15  20  19  18  17  21  22  16  24  23   2   7  25   5   1   8   9   6   4   3  13  10  11  12  14 "
          ]
        }
      ]
    },
    {
      "cell_type": "markdown",
      "metadata": {
        "id": "LYpJfcCOec7T"
      },
      "source": [
        "A outra forma que encontramos para resolver um Sudoku de rank $N$ levou-nos a vê-lo como uma matriz tridimensional ($n² \\times n² \\times n²$) $Sudoku(X,Y,Z)$ em que $X$ representa a linha, $Y$ a coluna e $Z$ a cor. \n",
        "\n",
        "Para o efeito estabelecemos as seguintes restrições:\n",
        "\n",
        "1. $\\forall_x \\in X, \\forall_y \\in Y \\cdot \\sum_{0 \\le z < Z} Sudoku_{x,y,z} = 1$\n",
        "2. $\\forall_x \\in X, \\forall_z \\in Z \\cdot \\sum_{0 \\le y < Y} Sudoku_{x,y,z} = 1$\n",
        "3. $\\forall_y \\in Y, \\forall_z \\in Z \\cdot \\sum_{0 \\le x < X} Sudoku_{x,y,z} = 1$\n",
        "4. $\\forall_x \\in X : \\frac{n}{x}, \\forall_y \\in Y : \\frac{n}{y}, \\forall_{0 \\le c_x < n²}, \\forall_{0 \\le c_y < n²} \\cdot \\sum_{0 \\le z < Z} Sudoku_{\\ x +\\ c_x ,\\ y+c_y ,\\ z} = 1$"
      ]
    },
    {
      "cell_type": "code",
      "metadata": {
        "id": "i-trdAOVjwxg"
      },
      "source": [
        "def solve_sudoku_ip(n, board):\n",
        "  leng = n**2\n",
        "  solver = pywraplp.Solver.CreateSolver('BOP')\n",
        "\n",
        "  # Criar variáveis\n",
        "  sudoku = {}\n",
        "  for x in range(leng):\n",
        "    for y in range(leng):\n",
        "      for z in range(leng):\n",
        "        sudoku[x, y, z] = solver.BoolVar('sudoku[%i,%i,%i]' % (x, y, z))\n",
        "\n",
        "  # Adicionar cores predefinidas\n",
        "  for x in range(leng):\n",
        "    for y in range(leng):\n",
        "      if board[x][y] > 0:\n",
        "        for z in range(leng):\n",
        "          solver.Add(sudoku[x, y, z] == int(board[x][y] == z+1))\n",
        "  \n",
        "  # Cada par (x,y) só tem uma cor\n",
        "  for x in range(leng):\n",
        "    for y in range(leng):\n",
        "      solver.Add(sum(sudoku[x, y, z] for z in range(leng)) == 1)\n",
        "\n",
        "  \n",
        "  for z in range(leng):\n",
        "    # Cores diferentes nas linhas\n",
        "    for x in range(leng):\n",
        "      solver.Add(sum(sudoku[x, y, z] for y in range(leng)) == 1)\n",
        "\n",
        "    # Cores diferentes nas colunas\n",
        "    for y in range(leng):\n",
        "      solver.Add(sum(sudoku[x, y, z] for x in range(leng)) == 1)\n",
        "\n",
        "    # Cores diferentes nos blocos\n",
        "    for corner_x in range(0, leng, n):\n",
        "      for corner_y in range(0, leng, n):\n",
        "        solver.Add(sum(sudoku[corner_x + x, corner_y + y, z] for x in range(n) for y in range(n)) == 1)\n",
        "  \n",
        "\n",
        "  status = solver.Solve()\n",
        "  \n",
        "  result = [[0] * leng for _ in range(leng)]\n",
        "  if status == pywraplp.Solver.OPTIMAL:\n",
        "    # colorir\n",
        "    for x in range(leng):\n",
        "      for y in range(leng):\n",
        "        result[x][y] = sum((z + 1) * round(sudoku[x, y, z].solution_value()) for z in range(leng))\n",
        "\n",
        "  return result"
      ],
      "execution_count": null,
      "outputs": []
    },
    {
      "cell_type": "code",
      "metadata": {
        "colab": {
          "base_uri": "https://localhost:8080/"
        },
        "id": "pp2PFdxDeqDa",
        "outputId": "e594d725-0928-49ae-bbdf-a972fe44387f"
      },
      "source": [
        "n, alpha = 3, 0.2\n",
        "\n",
        "solucao, tabuleiro = gerar_sudoku(n, alpha)\n",
        "\n",
        "res = solve_sudoku_ip(n, tabuleiro)\n",
        "\n",
        "print(\"Unsolved\\n\",tabulate(tabuleiro))\n",
        "print(\"Solved\\n\",tabulate(res))\n"
      ],
      "execution_count": null,
      "outputs": [
        {
          "output_type": "stream",
          "name": "stdout",
          "text": [
            "Unsolved\n",
            " -  -  -  -  -  -  -  -  -\n",
            "0  0  1  0  0  0  0  0  9\n",
            "0  8  0  0  0  0  0  0  0\n",
            "0  0  0  0  9  0  0  1  0\n",
            "7  6  0  8  0  0  0  0  4\n",
            "4  0  0  0  0  0  9  0  0\n",
            "0  0  8  0  0  0  0  0  0\n",
            "0  0  3  0  8  0  0  0  0\n",
            "2  0  0  0  0  0  7  0  0\n",
            "0  0  0  0  0  0  0  0  0\n",
            "-  -  -  -  -  -  -  -  -\n",
            "Solved\n",
            " -  -  -  -  -  -  -  -  -\n",
            "6  7  1  3  4  8  2  5  9\n",
            "9  8  5  2  1  7  6  4  3\n",
            "3  2  4  5  9  6  8  1  7\n",
            "7  6  9  8  2  5  1  3  4\n",
            "4  5  2  1  6  3  9  7  8\n",
            "1  3  8  4  7  9  5  6  2\n",
            "5  1  3  7  8  2  4  9  6\n",
            "2  4  6  9  3  1  7  8  5\n",
            "8  9  7  6  5  4  3  2  1\n",
            "-  -  -  -  -  -  -  -  -\n"
          ]
        }
      ]
    },
    {
      "cell_type": "markdown",
      "metadata": {
        "id": "-4-b-MW8A-K5"
      },
      "source": [
        "#Conclusão\n",
        "\n",
        "Tirando proveito das módulos `timeit` e `matplotlib` obtivemos os resultados abaixo apresentados."
      ]
    },
    {
      "cell_type": "code",
      "metadata": {
        "colab": {
          "base_uri": "https://localhost:8080/",
          "height": 363
        },
        "id": "YbCTqmIjZ5ZL",
        "outputId": "312de049-52f3-4f1d-b068-a0a7169e1ecd"
      },
      "source": [
        "alphas = [0.0, 0.2, 0.4, 0.6]\n",
        "ns = list(range(3, 6))\n",
        "reps = 10\n",
        "\n",
        "\n",
        "x = [3.0, 3.2, 3.4, 3.6, 4.0, 4.2, 4.4, 4.6, 5.0, 5.2, 5.4, 5.6]\n",
        "cube = []\n",
        "graph = []\n",
        "\n",
        "headers = [\"0.0\", \"0.2\", \"0.4\", \"0.6\"]\n",
        "\n",
        "timestamps = np.zeros((6-3, 4))\n",
        "# \n",
        "for n in range(len(ns)):\n",
        "  for alpha in range(len(alphas)):\n",
        "    solucao, tabuleiro = gerar_sudoku(ns[n], alphas[alpha])\n",
        "    elapsed_time = timeit.timeit(lambda : solve_sudoku_ip(ns[n], tabuleiro), number=reps)\n",
        "    timestamps[n, alpha] = round(elapsed_time/reps, 4)\n",
        "    cube.append(timestamps[n, alpha])\n",
        "\n",
        "print(tabulate(timestamps,headers))\n",
        "\n",
        "# labels\n",
        "plt.xlabel(\"N.alpha\")\n",
        "plt.ylabel(\"Tempo\")\n",
        "\n",
        "# linha cubo\n",
        "plt.plot(x, cube, 'b', label='Matriz cúbica')\n",
        "\n",
        "plt.show()"
      ],
      "execution_count": null,
      "outputs": [
        {
          "output_type": "stream",
          "name": "stdout",
          "text": [
            "   0.0     0.2     0.4     0.6\n",
            "------  ------  ------  ------\n",
            "0.027   0.0268  0.0281  0.0305\n",
            "0.133   0.1411  0.1528  0.1588\n",
            "0.4965  0.5193  0.6802  0.586\n"
          ]
        },
        {
          "output_type": "display_data",
          "data": {
            "image/png": "[encoded data removed]",
            "text/plain": [
              "<Figure size 432x288 with 1 Axes>"
            ]
          },
          "metadata": {
            "needs_background": "light"
          }
        }
      ]
    },
    {
      "cell_type": "code",
      "metadata": {
        "colab": {
          "base_uri": "https://localhost:8080/",
          "height": 367
        },
        "id": "sMfz8QOUogBU",
        "outputId": "cf70cf14-10e3-4fc1-9b46-3e0f19e18ae6"
      },
      "source": [
        "for n in range(len(ns)):\n",
        "  for alpha in range(len(alphas)):\n",
        "    solucao, tabuleiro = gerar_sudoku(ns[n], alphas[alpha])\n",
        "    elapsed_time = timeit.timeit(lambda : solve_sudoku_graph(ns[n], tabuleiro), number=reps)\n",
        "    timestamps[n, alpha] = round(elapsed_time/reps, 4)\n",
        "    graph.append(timestamps[n, alpha])\n",
        "\n",
        "print(tabulate(timestamps,headers))\n",
        "\n",
        "# labels\n",
        "plt.xlabel(\"N.alpha\")\n",
        "plt.ylabel(\"Tempo\")\n",
        "\n",
        "# linha grafo\n",
        "plt.plot(x, graph, 'r', label='Grafo')\n",
        "\n",
        "plt.show()"
      ],
      "execution_count": null,
      "outputs": [
        {
          "output_type": "stream",
          "name": "stdout",
          "text": [
            "   0.0     0.2      0.4     0.6\n",
            "------  ------  -------  ------\n",
            "0.1485  0.147    0.1508  0.1534\n",
            "1.534   1.5218   1.5337  1.5211\n",
            "9.8     9.5566  11.4755  9.393\n"
          ]
        },
        {
          "output_type": "display_data",
          "data": {
            "image/png": "[encoded data removed]",
            "text/plain": [
              "<Figure size 432x288 with 1 Axes>"
            ]
          },
          "metadata": {
            "needs_background": "light"
          }
        }
      ]
    },
    {
      "cell_type": "code",
      "metadata": {
        "colab": {
          "base_uri": "https://localhost:8080/",
          "height": 279
        },
        "id": "TjGx_N9PpPIJ",
        "outputId": "9b57ae5d-8ff4-47c0-9031-e622339a47e4"
      },
      "source": [
        "# labels\n",
        "plt.xlabel(\"N.alpha\")\n",
        "plt.ylabel(\"Tempo\")\n",
        "\n",
        "\n",
        "# linha cubo\n",
        "plt.plot(x, cube, 'b', label='Matriz cúbica')\n",
        "# linha grafo\n",
        "plt.plot(x, graph, 'r', label='Grafo')\n",
        "\n",
        "plt.show()"
      ],
      "execution_count": null,
      "outputs": [
        {
          "output_type": "display_data",
          "data": {
            "image/png": "[encoded data removed]",
            "text/plain": [
              "<Figure size 432x288 with 1 Axes>"
            ]
          },
          "metadata": {
            "needs_background": "light"
          }
        }
      ]
    },
    {
      "cell_type": "markdown",
      "metadata": {
        "id": "_2YP2EvqB_2C"
      },
      "source": [
        "Para acrescentar informção aos dados recolhidos pela nossa resolução, fomos consultar alguns documentos *online* que enunciam: \n",
        "> \" Um Sudoku tem uma solução válida (existir apenas uma solução para cada puzzle) se tiver no mínimo 17 células preenchidas.\"\n",
        "\n",
        "No contexto do nosso problema as células preenchidos são dados pelo $\\alpha$, através de alguma matemática básica entendemos que:\n",
        "\n",
        "\\begin{array}{l}\n",
        "\\alpha = 0.0 \\rightarrow\\ 0\\ células\\ preenchidas\\\\\n",
        "\\alpha = 0.2 \\rightarrow\\ \\approx 16\\ células\\ preenchidas\\\\\n",
        "\\alpha = 0.4 \\rightarrow\\ \\approx 32 \\ células\\ preenchidas\\\\\n",
        "\\alpha = 0.6 \\rightarrow\\ \\approx 49 \\ células\\ preenchidas\n",
        "\\end{array}\n",
        "\n",
        "O segundo fator que aumenta a dificuldade de resolver a pergunta é o número de células que têm de ser analisadas pois consome-se muito tempo a pesquisar grelhas completas, uma vez que o número de subconjuntos de cardinal 17 num conjunto com 81 (tabuleiro $3^2 \\times 3^2$) elementos é igual a\n",
        "\\begin{align}\n",
        "\\frac{81!}{17!\\cdot(81-17)!} = \\frac{81!}{17!(64)!} = \\frac{4.56873...^{31}}{3.55687...^{14}}\\\\\n",
        "\\end{align}\n",
        "Mas temos de testar várias grelhas, mais precisamente\n",
        "$$6\\ 670\\ 903\\ 752\\ 021\\ 072\\ 936\\ 960 \\approx 6, 7 × 10^{21} \\ grelhas^{[3]}$$\n",
        "\n",
        "Enquanto que o número de grelhas aumenta linearmente a computação de uma solução válida para o problema aumenta exponencialmente, mesmo quando é utilizada a solução lógica. \n",
        "\n",
        "Mesmo que não estejamos interessados na validade de um Sudoku, os cálculos acima continuam a ser relevantes para o desfecho do nosso problema. Inicialmente pensamos:\n",
        "> Quanto menor o número de células preenchidas no início do problema maior será o número de comparações que o algoritmo realiza, no entanto após realizar os testes, surgiu um padrão, onde menos células preenchidas implica maior liberdade e o inverso implica mais derivações lógicas. Mas existe um ponto intermédio no qual a liberdade e as opções lógicas se anulam parcialmente."
      ]
    },
    {
      "cell_type": "markdown",
      "metadata": {
        "id": "_FYs1J4fKYrZ"
      },
      "source": [
        "#Referências\n",
        "\n",
        "[1] https://www.sudokuwiki.org/Brute_Force_vs_Logical_Strategies\n",
        "\n",
        "[2] https://pt.wikipedia.org/wiki/Sudoku\n",
        "\n",
        "[3] http://repositorium.sdum.uminho.pt/handle/1822/21115\n",
        "\n",
        "[4] https://ionline.sapo.pt/artigo/442988/sudoku-n-mero-minimo-de-pistas-ja-nao-e-misterio-?seccao=Mundo_i"
      ]
    }
  ]
}