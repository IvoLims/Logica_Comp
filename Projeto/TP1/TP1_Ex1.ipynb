{
  "nbformat": 4,
  "nbformat_minor": 0,
  "metadata": {
    "colab": {
      "name": "TP1 Ex1.ipynb",
      "provenance": [],
      "collapsed_sections": []
    },
    "kernelspec": {
      "name": "python3",
      "display_name": "Python 3"
    },
    "language_info": {
      "name": "python"
    }
  },
  "cells": [
    {
      "cell_type": "markdown",
      "metadata": {
        "id": "4QV8hYQ5RFmS"
      },
      "source": [
        "## Lógica Computacional: 21/22## \n",
        "---\n",
        "##Trabalho 1## \n",
        "\n",
        "$Grupo$ $7$ \n",
        "\n",
        "*   David José de Sousa Machado (A91665)\n",
        "*   Ivo Miguel Gomes Lima (A90214)\n",
        "---\n",
        "#Inicialização\n",
        "\n",
        "Para a resolução destes exercícios usamos a biblioteca [OR-Tools](https://developers.google.com/optimization) que criou uma interface para o SCIP. Esta biblioteca foi instalada com o commando `pip install ortools`."
      ]
    },
    {
      "cell_type": "code",
      "metadata": {
        "colab": {
          "base_uri": "https://localhost:8080/"
        },
        "id": "VS2E18lJ_LiH",
        "outputId": "76729d53-bea1-42e1-ce06-467aa50dc2dd"
      },
      "source": [
        "!pip install ortools"
      ],
      "execution_count": 2,
      "outputs": [
        {
          "output_type": "stream",
          "name": "stdout",
          "text": [
            "Requirement already satisfied: ortools in /usr/local/lib/python3.7/dist-packages (9.1.9490)\n",
            "Requirement already satisfied: absl-py>=0.13 in /usr/local/lib/python3.7/dist-packages (from ortools) (0.15.0)\n",
            "Requirement already satisfied: protobuf>=3.18.0 in /usr/local/lib/python3.7/dist-packages (from ortools) (3.19.0)\n",
            "Requirement already satisfied: six in /usr/local/lib/python3.7/dist-packages (from absl-py>=0.13->ortools) (1.15.0)\n"
          ]
        }
      ]
    },
    {
      "cell_type": "code",
      "metadata": {
        "id": "eXghNpiM-wh3"
      },
      "source": [
        "import networkx as nx\n",
        "from ortools.linear_solver import pywraplp\n",
        "from tabulate import tabulate\n",
        "import random"
      ],
      "execution_count": 7,
      "outputs": []
    },
    {
      "cell_type": "markdown",
      "metadata": {
        "id": "MlmInG57mcBj"
      },
      "source": [
        "# Problema 1: Horário de uma *StartUp*\n",
        "\n",
        "Foi pedida a criação de um horário semanal para uma *Startup*, seguindo as seguintes condições:\n",
        "\n",
        "1. Cada reunião ocupa uma sala (enumeradas $1...S\\,$) durante um *“slot”* $(\\text{tempo},\\text{dia})$.  Assume-se os dias enumerados $1..D$ e, em cada dia, os tempos enumerados $1..T$.\n",
        "\n",
        "2.  Cada reunião tem associado um projeto (enumerados $1..P$) e um conjunto de participantes. Os diferentes colaboradores são enumerados $1..C$.\n",
        "\n",
        "3. Cada projeto tem associado um conjunto de colaboradores, dos quais um  é o líder. Cada projeto realiza um dado número de reuniões semanais. São *“inputs”* do problema o conjunto de colaboradores de cada projeto, o seu líder e o número de reuniões semanais.\n",
        "\n",
        "4. O líder do projeto participa em todas as reuniões do seu projeto; os restantes colaboradores podem ou não participar consoante a sua disponibilidade, num mínimo (*“quorum”*) de  $50\\%$ do total de colaboradores do projeto.  A disponibilidade de cada participante, incluindo o lider,  é um conjunto de *“slots”* (*“inputs”* do problema).\n",
        "\n",
        "**Análise do problema**\n",
        "\n",
        "Para criarmos um horário coerente e compatível com as disponibilidades de cada um dos intervenientes, foi necessário estabelecer algumas restrições.\n",
        "\n",
        "**Condições inerentes**\n",
        "\n",
        "As condições inerentes são relativas à verificação da coerência do mesmo. Estas condições são:\n",
        "\n",
        "*   Deve existir um número de reuniões semanais por projeto $R_p$, dado no input do problema:\n",
        "\n",
        "$$\\forall_{p<P} \\quad \\sum_{s<S,\\ d<D,\\ h<H,\\ c_{Líder}} x_{p,s,d,h,c} = R_p$$\n",
        "\n",
        "*   Para haver reunião de um projeto numa certa sala, dia e hora, o líder tem de estar presente:\n",
        "\n",
        "$$\\forall_{p<P} \\quad \\sum_{s<S,\\ d<D,\\ h<H,\\ c_{Líder}} x_{p,s,d,h,c} = 1$$\n",
        "\n",
        ">   **Nota:** As condições acima enunciadas acabam por culminar numa única pois o Líder tem de ir a todas as $R$ reuniões o que implica a existência das mesmas.\n",
        "\n",
        "*   Não pode haver reunião de um projeto numa certa sala, dia e hora, se os colaboradores estiverem indisponíveis:\n",
        "\n",
        "$$\\forall_{s<S} \\cdot \\forall_{d<D} \\cdot \\forall_{h<H} \\cdot \\forall_{p<P} \\quad \\sum_{c\\in Proj\\ \\land\\ c \\in\\ Indisponível } x_{p,s,d,h,c} = 0\\$$\n",
        "\n",
        "*   Cada colaborador, numa dada sala, dia e hora, não pode participar num projeto que não é o seu:\n",
        "\n",
        "$$\\forall_{s<S} \\cdot \\forall_{d<D} \\cdot \\forall_{h<H} \\cdot \\forall_{p<P}\\cdot \\forall_{c\\notin Proj } \\quad \\sum_{} x_{p,s,d,h,c} = 0 $$\n",
        "\n",
        "**Limitações** (que impõem limites máximos à alocação)\n",
        "\n",
        "*   Cada sala, num dado dia e hora, apenas pode acolher um projeto:\n",
        "\n",
        "$$\\forall_{s<S} \\cdot \\forall_{d<D}\\cdot \\forall_{h<H} \\quad \\sum_{p< P,\\,c\\in Proj } x_{p,s,d,h,c} \\leq 1$$\n",
        "\n",
        "*   Cada projeto só pode ter no máximo uma reunião por dia e hora:\n",
        "\n",
        "$$\\forall_{p < P} \\cdot \\forall_{d < D}\\cdot \\forall_{h < H}  \\quad \\sum_{s < S,\\,c\\in Proj } x_{p,s,d,h,c} \\leq 1$$\n",
        "\n",
        "*   Cada colaborador, num dado dia e hora, só pode participar na sala do seu projeto:\n",
        "\n",
        "$$\\forall_{s<S} \\cdot \\forall_{d<D}\\cdot \\forall_{h<H} \\cdot \\forall_{p<P} \\cdot \\forall_{c \\in Proj} \\quad \\sum_{s< S} x_{p,s,d,h,c} \\leq 1$$\n",
        "\n",
        ">   **Nota:** Novamente as duas condições acima chegam a uma única pois ao garantirmos que cada colaborador apenas pode participar na reunião do seu projeto, garantimos que ela existe.\n",
        "\n",
        "**Obrigações** (que impõem limites mínimos à alocação)\n",
        "\n",
        "*   Para haver reunião de um projeto numa certa sala, dia e hora, o líder e pelo menos $50\\%$ dos colaboradores devem estar disponíveis assim como a sala:\n",
        "\n",
        "$$\\forall_{s<S} \\cdot \\forall_{d<D}\\cdot \\forall_{h<H} \\cdot \\forall_{p<P} \\quad\\sum_{c\\in\\ (Proj\\ \\land\\ Líder) } x_{p,s,d,h,c} \\geq \\frac{c}{2}$$"
      ]
    },
    {
      "cell_type": "markdown",
      "metadata": {
        "id": "7ZK8MAAVAOYd"
      },
      "source": [
        "#Implementação:\n",
        "\n",
        "**Gerador de Testes Aleatório**"
      ]
    },
    {
      "cell_type": "code",
      "metadata": {
        "id": "EcO9AwSh6gKQ",
        "colab": {
          "base_uri": "https://localhost:8080/"
        },
        "outputId": "13c06008-cd6c-4edb-daf3-2b2c77376235"
      },
      "source": [
        "Slots = [(d, h) for d in range(5) for h in range(8)]\n",
        "Colabs = set(range(30))\n",
        "\n",
        "Colaboradores = [random.sample(Slots, 20) for _ in range(30)]\n",
        "Projectos = []\n",
        "for _ in range(5):\n",
        "  team = random.sample(Colabs, 6)\n",
        "  Projectos.append((random.randint(1, 5), team))\n",
        "  Colabs = Colabs - set(team)\n",
        "\n",
        "for c in range(30):\n",
        "  Colaboradores[c].sort()\n",
        "  print(c, Colaboradores[c])\n",
        "\n",
        "for num_r, workers in Projectos:\n",
        "  print(num_r, workers)"
      ],
      "execution_count": 5,
      "outputs": [
        {
          "output_type": "stream",
          "name": "stdout",
          "text": [
            "0 [(0, 1), (0, 2), (0, 4), (0, 5), (1, 0), (1, 2), (1, 4), (1, 5), (1, 6), (1, 7), (2, 0), (2, 1), (2, 2), (2, 5), (2, 7), (3, 0), (3, 6), (4, 2), (4, 4), (4, 5)]\n",
            "1 [(0, 0), (0, 5), (1, 0), (1, 1), (1, 3), (1, 6), (1, 7), (2, 1), (2, 3), (2, 4), (2, 7), (3, 0), (3, 1), (3, 2), (3, 3), (3, 7), (4, 0), (4, 2), (4, 3), (4, 7)]\n",
            "2 [(0, 0), (0, 1), (0, 3), (0, 5), (1, 1), (1, 6), (1, 7), (2, 1), (2, 2), (2, 6), (2, 7), (3, 1), (3, 3), (3, 4), (3, 5), (3, 6), (3, 7), (4, 0), (4, 4), (4, 5)]\n",
            "3 [(0, 0), (0, 1), (0, 4), (0, 6), (0, 7), (1, 2), (1, 3), (1, 4), (1, 7), (2, 1), (2, 2), (2, 4), (3, 1), (3, 2), (3, 3), (3, 4), (3, 5), (4, 0), (4, 4), (4, 5)]\n",
            "4 [(0, 0), (0, 1), (0, 3), (0, 4), (0, 6), (0, 7), (1, 0), (1, 5), (1, 6), (2, 0), (2, 1), (2, 2), (2, 4), (2, 6), (2, 7), (3, 0), (3, 1), (3, 3), (4, 1), (4, 5)]\n",
            "5 [(0, 0), (0, 1), (0, 2), (0, 6), (0, 7), (1, 1), (1, 2), (1, 6), (1, 7), (2, 0), (2, 1), (2, 2), (2, 7), (3, 0), (3, 1), (3, 2), (3, 7), (4, 0), (4, 3), (4, 6)]\n",
            "6 [(0, 0), (0, 2), (0, 3), (0, 5), (0, 6), (0, 7), (1, 0), (1, 2), (1, 3), (1, 4), (1, 5), (1, 6), (1, 7), (2, 5), (3, 0), (3, 4), (3, 7), (4, 0), (4, 1), (4, 6)]\n",
            "7 [(0, 0), (0, 1), (0, 5), (0, 6), (0, 7), (1, 2), (1, 4), (1, 5), (1, 6), (2, 2), (2, 5), (2, 6), (2, 7), (3, 0), (3, 1), (3, 4), (3, 5), (4, 4), (4, 6), (4, 7)]\n",
            "8 [(0, 0), (0, 3), (0, 6), (0, 7), (1, 0), (1, 5), (1, 6), (1, 7), (2, 0), (2, 2), (2, 4), (3, 0), (3, 3), (3, 4), (3, 6), (3, 7), (4, 0), (4, 3), (4, 6), (4, 7)]\n",
            "9 [(0, 0), (0, 1), (0, 2), (0, 4), (0, 6), (0, 7), (1, 2), (1, 3), (1, 4), (1, 5), (1, 7), (2, 2), (2, 5), (3, 2), (3, 4), (3, 7), (4, 1), (4, 4), (4, 6), (4, 7)]\n",
            "10 [(0, 3), (0, 4), (0, 6), (0, 7), (1, 0), (1, 1), (1, 2), (1, 3), (1, 7), (2, 2), (2, 6), (2, 7), (3, 0), (3, 1), (3, 2), (3, 6), (3, 7), (4, 1), (4, 2), (4, 6)]\n",
            "11 [(0, 0), (0, 4), (0, 6), (0, 7), (1, 0), (1, 2), (1, 3), (1, 4), (1, 7), (2, 0), (2, 1), (2, 2), (2, 6), (2, 7), (3, 2), (3, 6), (4, 0), (4, 5), (4, 6), (4, 7)]\n",
            "12 [(0, 2), (0, 3), (0, 6), (1, 0), (1, 1), (1, 4), (1, 5), (1, 6), (2, 0), (2, 4), (2, 5), (2, 6), (2, 7), (3, 0), (3, 3), (3, 4), (3, 5), (3, 6), (4, 0), (4, 1)]\n",
            "13 [(0, 1), (0, 2), (0, 5), (0, 6), (1, 0), (1, 1), (1, 3), (1, 4), (1, 5), (1, 7), (2, 2), (2, 6), (3, 0), (3, 2), (3, 4), (3, 5), (3, 6), (3, 7), (4, 1), (4, 5)]\n",
            "14 [(0, 2), (0, 3), (0, 4), (1, 0), (1, 2), (1, 5), (1, 6), (1, 7), (2, 1), (2, 2), (3, 0), (3, 1), (3, 2), (4, 0), (4, 1), (4, 2), (4, 3), (4, 4), (4, 5), (4, 7)]\n",
            "15 [(0, 1), (0, 4), (0, 6), (1, 0), (1, 2), (1, 3), (1, 4), (1, 6), (2, 7), (3, 0), (3, 1), (3, 3), (3, 4), (3, 7), (4, 1), (4, 2), (4, 3), (4, 4), (4, 5), (4, 6)]\n",
            "16 [(0, 0), (0, 1), (0, 5), (1, 4), (1, 5), (2, 1), (2, 3), (2, 4), (2, 6), (2, 7), (3, 0), (3, 1), (3, 2), (3, 3), (3, 4), (3, 5), (3, 7), (4, 3), (4, 4), (4, 5)]\n",
            "17 [(0, 0), (0, 1), (0, 2), (0, 3), (0, 4), (0, 6), (0, 7), (1, 1), (1, 2), (1, 3), (1, 4), (1, 6), (2, 1), (2, 5), (2, 6), (3, 2), (3, 4), (3, 7), (4, 0), (4, 4)]\n",
            "18 [(0, 1), (0, 3), (0, 5), (0, 7), (1, 0), (1, 4), (1, 5), (1, 6), (1, 7), (2, 0), (2, 1), (2, 4), (2, 5), (3, 0), (3, 2), (3, 4), (3, 6), (4, 0), (4, 1), (4, 6)]\n",
            "19 [(0, 0), (0, 2), (0, 3), (0, 4), (0, 5), (0, 6), (1, 1), (1, 3), (1, 4), (1, 7), (2, 3), (3, 2), (3, 3), (3, 4), (3, 5), (3, 6), (4, 0), (4, 4), (4, 5), (4, 6)]\n",
            "20 [(0, 0), (0, 1), (0, 4), (0, 5), (1, 0), (1, 1), (1, 2), (1, 4), (1, 7), (2, 3), (2, 5), (2, 7), (3, 2), (3, 4), (3, 6), (3, 7), (4, 0), (4, 4), (4, 5), (4, 6)]\n",
            "21 [(0, 0), (0, 2), (0, 5), (0, 6), (1, 3), (1, 6), (2, 1), (2, 2), (2, 3), (2, 4), (2, 5), (2, 7), (3, 0), (3, 1), (3, 6), (3, 7), (4, 1), (4, 4), (4, 6), (4, 7)]\n",
            "22 [(0, 2), (0, 3), (0, 4), (0, 5), (1, 2), (1, 3), (1, 6), (1, 7), (2, 1), (2, 3), (2, 6), (2, 7), (3, 0), (3, 1), (3, 2), (3, 6), (4, 1), (4, 3), (4, 5), (4, 6)]\n",
            "23 [(0, 2), (0, 3), (0, 4), (0, 5), (0, 7), (1, 1), (1, 2), (1, 5), (2, 1), (2, 3), (2, 5), (3, 0), (3, 2), (3, 5), (4, 0), (4, 1), (4, 2), (4, 3), (4, 6), (4, 7)]\n",
            "24 [(0, 1), (0, 2), (0, 5), (0, 6), (1, 0), (1, 1), (1, 3), (1, 4), (2, 3), (2, 5), (2, 6), (3, 0), (3, 1), (3, 2), (3, 5), (4, 0), (4, 1), (4, 3), (4, 5), (4, 6)]\n",
            "25 [(0, 1), (0, 7), (1, 0), (1, 1), (1, 3), (1, 5), (1, 7), (2, 1), (2, 7), (3, 1), (3, 2), (3, 5), (3, 7), (4, 0), (4, 1), (4, 2), (4, 3), (4, 4), (4, 6), (4, 7)]\n",
            "26 [(0, 1), (0, 4), (0, 5), (0, 7), (1, 4), (1, 5), (1, 6), (1, 7), (2, 0), (2, 1), (2, 2), (2, 3), (3, 0), (3, 1), (3, 3), (3, 6), (3, 7), (4, 3), (4, 6), (4, 7)]\n",
            "27 [(0, 4), (0, 5), (1, 1), (1, 2), (1, 3), (1, 6), (1, 7), (2, 2), (2, 5), (2, 6), (2, 7), (3, 1), (3, 2), (3, 3), (3, 5), (3, 6), (3, 7), (4, 2), (4, 5), (4, 6)]\n",
            "28 [(0, 1), (0, 2), (0, 5), (0, 6), (1, 1), (1, 2), (1, 4), (1, 6), (1, 7), (2, 1), (2, 3), (2, 4), (3, 2), (3, 3), (3, 4), (3, 7), (4, 0), (4, 3), (4, 4), (4, 5)]\n",
            "29 [(0, 2), (0, 3), (0, 5), (0, 6), (1, 1), (1, 3), (1, 6), (2, 0), (2, 3), (3, 0), (3, 1), (3, 2), (3, 3), (3, 4), (3, 6), (3, 7), (4, 0), (4, 3), (4, 4), (4, 7)]\n",
            "1 [15, 0, 10, 2, 6, 26]\n",
            "4 [28, 4, 24, 25, 13, 14]\n",
            "4 [18, 22, 11, 12, 27, 3]\n",
            "5 [9, 21, 16, 17, 23, 5]\n",
            "1 [20, 19, 29, 7, 1, 8]\n"
          ]
        }
      ]
    },
    {
      "cell_type": "code",
      "metadata": {
        "id": "rF8VGWgtlsK3",
        "colab": {
          "base_uri": "https://localhost:8080/"
        },
        "outputId": "98237912-9792-4c34-8c68-c8bd83924ba3"
      },
      "source": [
        "horario = pywraplp.Solver.CreateSolver('SCIP')\n",
        "\n",
        "# Sala, Dias, Horas\n",
        "S, D, H = 5, 5, 8\n",
        "# Proj, Colab\n",
        "P, C = 5, 30\n",
        "# Num Reunioes Semanais\n",
        "R = 5\n",
        "\n",
        "# Inicialização\n",
        "x = {}\n",
        "for s in range(S):\n",
        "  for d in range(D):\n",
        "    for h in range(H):\n",
        "      for p in range(P):\n",
        "        for c in range(C):\n",
        "          x[s, d, h, p, c] = horario.BoolVar('x[%i, %i, %i, %i, %i]' % (s, d, h, p, c))\n",
        "\n",
        "# Condições inerentes\n",
        "\n",
        "# O líder tem de estar em todas as R reuniões do seu projecto\n",
        "for p in range(P):\n",
        "  horario.Add(sum(x[s, d, h, p, Projectos[p][1][0]] for s in range(S) for d in range(D) for h in range(H)) == Projectos[p][0])\n",
        "\n",
        "# Slot (d, h) fora da disponibilidade do colaborador, logo não pode ser usado\n",
        "for s in range(S):\n",
        "  for d in range(D):\n",
        "    for h in range(H):\n",
        "      for p in range(P):\n",
        "        for c in range(C):\n",
        "          if (d, h) not in Colaboradores[c]:\n",
        "            horario.Add(x[s, d, h, p, c] == 0)\n",
        "\n",
        "# Colaboradores que não são do projecto não podem estar nele\n",
        "for s in range(S):\n",
        "  for d in range(D):\n",
        "    for h in range(H):\n",
        "      for p in range(P):\n",
        "        for c in range(C):\n",
        "          if c not in Projectos[p][1]:\n",
        "            horario.Add(x[s, d, h, p, c] == 0)\n",
        "\n",
        "# Limitações\n",
        "\n",
        "# Cada sala tem alocada, no máximo, um projeto\n",
        "for s in range(S):\n",
        "  for d in range(D):\n",
        "    for h in range(H):\n",
        "      horario.Add(sum(x[s, d, h, p, Projectos[p][1][0]] for p in range(P)) <= 1)\n",
        "\n",
        "# Cada colaborador de um projeto só pode estar numa sala\n",
        "for d in range(D):\n",
        "  for h in range(H):\n",
        "    for p in range(P):\n",
        "      for c in Projectos[p][1]:\n",
        "        horario.Add(sum(x[s, d, h, p, c]  for s in range(S)) <= 1)\n",
        "\n",
        "# Obrigações\n",
        "\n",
        "# Participação de 50% com o líder incluido\n",
        "for s in range(S):\n",
        "  for d in range(D):\n",
        "    for h in range(H):\n",
        "      for p in range(P):\n",
        "        horario.Add(sum(x[s, d, h, p, c] for c in Projectos[p][1]) >= 3 * x[s, d, h, p, Projectos[p][1][0]])\n",
        "\n",
        "# Fazer o solve\n",
        "status = horario.Solve()\n",
        "if status == pywraplp.Solver.OPTIMAL:\n",
        "  for p in range(P):\n",
        "    presencas = []\n",
        "    for dia in range(D):\n",
        "      print(\"DIA {:<14}\".format(dia), end=\"\")\n",
        "    print()\n",
        "    for hora in range(H):\n",
        "      for dia in range(D):\n",
        "        print(\"||\", hora, end=\" || \")\n",
        "        for s in range(S):\n",
        "          if round(x[s, dia, hora, p, Projectos[p][1][0]].solution_value()) == 1:\n",
        "            presencas.append([c for c in range(C) if round(x[s, dia, hora, p, c].solution_value())])\n",
        "            print(s, end=\" \")\n",
        "          else:\n",
        "            print(\"x\", end=\" \")\n",
        "      print()\n",
        "    print(presencas)\n",
        "else:\n",
        "  print(\"impossível\")"
      ],
      "execution_count": 6,
      "outputs": [
        {
          "output_type": "stream",
          "name": "stdout",
          "text": [
            "DIA 0             DIA 1             DIA 2             DIA 3             DIA 4             \n",
            "|| 0 || x x x x x || 0 || x x x x x || 0 || x x x x x || 0 || x x x x x || 0 || x x x x x \n",
            "|| 1 || x x x x x || 1 || x x x x x || 1 || x x x x x || 1 || x x x x x || 1 || x x x x x \n",
            "|| 2 || x x x x x || 2 || x x x x x || 2 || x x x x x || 2 || x x x x x || 2 || x x x x x \n",
            "|| 3 || x x x x x || 3 || x x x x x || 3 || x x x x x || 3 || 0 x x x x || 3 || x x x x x \n",
            "|| 4 || x x x x x || 4 || x x x x x || 4 || x x x x x || 4 || x x x x x || 4 || x x x x x \n",
            "|| 5 || x x x x x || 5 || x x x x x || 5 || x x x x x || 5 || x x x x x || 5 || x x x x x \n",
            "|| 6 || x x x x x || 6 || x x x x x || 6 || x x x x x || 6 || x x x x x || 6 || x x x x x \n",
            "|| 7 || x x x x x || 7 || x x x x x || 7 || x x x x x || 7 || x x x x x || 7 || x x x x x \n",
            "[[2, 15, 26]]\n",
            "DIA 0             DIA 1             DIA 2             DIA 3             DIA 4             \n",
            "|| 0 || x x x x x || 0 || x x x x x || 0 || x x x x x || 0 || x x x x x || 0 || x x x x x \n",
            "|| 1 || x x x x x || 1 || x x x x x || 1 || 0 x x x x || 1 || x x x x x || 1 || x x x x x \n",
            "|| 2 || x x x x x || 2 || x x x x x || 2 || x x x x x || 2 || x x x x x || 2 || x x x x x \n",
            "|| 3 || x x x x x || 3 || x x x x x || 3 || x x x x x || 3 || x x x x x || 3 || 0 x x x x \n",
            "|| 4 || x x x x x || 4 || 0 x x x x || 4 || x x x x x || 4 || x x x x x || 4 || x x x x x \n",
            "|| 5 || x x x x x || 5 || x x x x x || 5 || x x x x x || 5 || x x x x x || 5 || 0 x x x x \n",
            "|| 6 || x x x x x || 6 || x x x x x || 6 || x x x x x || 6 || x x x x x || 6 || x x x x x \n",
            "|| 7 || x x x x x || 7 || x x x x x || 7 || x x x x x || 7 || x x x x x || 7 || x x x x x \n",
            "[[4, 14, 25, 28], [14, 24, 25, 28], [13, 24, 28], [4, 13, 14, 24, 28]]\n",
            "DIA 0             DIA 1             DIA 2             DIA 3             DIA 4             \n",
            "|| 0 || x x x x x || 0 || x x x x x || 0 || x x x x x || 0 || x x x x x || 0 || x x x x x \n",
            "|| 1 || x x x x x || 1 || x x x x x || 1 || x x x x x || 1 || x x x x x || 1 || x x x x x \n",
            "|| 2 || x x x x x || 2 || x x x x x || 2 || x x x x x || 2 || 0 x x x x || 2 || x x x x x \n",
            "|| 3 || x x x x x || 3 || x x x x x || 3 || x x x x x || 3 || x x x x x || 3 || x x x x x \n",
            "|| 4 || x x x x x || 4 || x x x x x || 4 || x x x x x || 4 || 0 x x x x || 4 || x x x x x \n",
            "|| 5 || 0 x x x x || 5 || x x x x x || 5 || x x x x x || 5 || x x x x x || 5 || x x x x x \n",
            "|| 6 || x x x x x || 6 || x x x x x || 6 || x x x x x || 6 || x x x x x || 6 || x x x x x \n",
            "|| 7 || 0 x x x x || 7 || x x x x x || 7 || x x x x x || 7 || x x x x x || 7 || x x x x x \n",
            "[[3, 11, 18, 22, 27], [3, 12, 18], [18, 22, 27], [3, 11, 18]]\n",
            "DIA 0             DIA 1             DIA 2             DIA 3             DIA 4             \n",
            "|| 0 || x x x x x || 0 || x x x x x || 0 || x x x x x || 0 || x x x x x || 0 || x x x x x \n",
            "|| 1 || x x x x x || 1 || x x x x x || 1 || x x x x x || 1 || x x x x x || 1 || 0 x x x x \n",
            "|| 2 || 0 x x x x || 2 || x x x x x || 2 || x x x x x || 2 || x x x x x || 2 || x x x x x \n",
            "|| 3 || x x x x x || 3 || x x x x x || 3 || x x x x x || 3 || x x x x x || 3 || x x x x x \n",
            "|| 4 || x x x x x || 4 || x x x x x || 4 || x x x x x || 4 || x x x x x || 4 || 0 x x x x \n",
            "|| 5 || x x x x x || 5 || x x x x x || 5 || 0 x x x x || 5 || x x x x x || 5 || x x x x x \n",
            "|| 6 || 0 x x x x || 6 || x x x x x || 6 || x x x x x || 6 || x x x x x || 6 || x x x x x \n",
            "|| 7 || x x x x x || 7 || x x x x x || 7 || x x x x x || 7 || x x x x x || 7 || x x x x x \n",
            "[[9, 21, 23], [5, 9, 17, 21, 23], [9, 16, 17, 21], [9, 17, 21, 23], [5, 9, 17, 21]]\n",
            "DIA 0             DIA 1             DIA 2             DIA 3             DIA 4             \n",
            "|| 0 || x x x x x || 0 || x x x x x || 0 || x x x x x || 0 || x x x x x || 0 || x x x x x \n",
            "|| 1 || x x x x x || 1 || x x x x x || 1 || x x x x x || 1 || x x x x x || 1 || x x x x x \n",
            "|| 2 || x x x x x || 2 || x x x x x || 2 || x x x x x || 2 || x x x x x || 2 || x x x x x \n",
            "|| 3 || x x x x x || 3 || x x x x x || 3 || x x x x x || 3 || x x x x x || 3 || x x x x x \n",
            "|| 4 || x x x x x || 4 || x x x x x || 4 || x x x x x || 4 || x x x x x || 4 || x x x x x \n",
            "|| 5 || x x x x x || 5 || x x x x x || 5 || x x x x x || 5 || x x x x x || 5 || x x x x x \n",
            "|| 6 || x x x x x || 6 || x x x x x || 6 || x x x x x || 6 || x x x x x || 6 || x x x x x \n",
            "|| 7 || x x x x x || 7 || x x x x x || 7 || 0 x x x x || 7 || x x x x x || 7 || x x x x x \n",
            "[[1, 7, 20]]\n"
          ]
        }
      ]
    }
  ]
}